{
 "cells": [
  {
   "cell_type": "markdown",
   "id": "3579bd6c-89b9-4440-a85e-4bc5122fae95",
   "metadata": {},
   "source": [
    "Notebook to generate data issues"
   ]
  },
  {
   "cell_type": "code",
   "execution_count": null,
   "id": "f6897533-e4f8-4490-b0a8-5e929b1e8ee5",
   "metadata": {},
   "outputs": [],
   "source": [
    "# 1 feature_missing => one or some of the csv files are missing a required column.\n",
    "# 2 values_missing => one or more values in a row are nulls.\n",
    "# 3 unknown_categorical => expected value \"dinner\", \"lunch\", new value: \"drinks\".\n",
    "# 4 out_of_range_numerical => wrong value for a feature, e.g:-1 for tips.\n",
    "# 5 values_types_invalid => string value in a numerical column and vice versa.\n",
    "# 6 values_outlier => 1000 people for a table.\n",
    "# 7 values_bad_encoding => having unreadable character in CSV file e.g: à, ù, Ö, Ü.\n",
    "# 8 csv_format => one or some csv files are seperated by other delimiter e.g: TSV using \\t\n",
    "# 9 header_missing => in a csv file one or more of the label is missing e.g: \"tips\""
   ]
  },
  {
   "metadata": {
    "ExecuteTime": {
     "end_time": "2025-02-20T15:37:51.555489Z",
     "start_time": "2025-02-20T15:37:51.525967Z"
    }
   },
   "cell_type": "code",
   "source": [
    "import pandas as pd\n",
    "data1 = {\n",
    "    \"tips\" : [1.01, 1.66, 3.5, 3.31, 3.61],\n",
    "    \"sex\" : [\"Female\", \"Male\", \"Male\", \"Male\", \"Female\"],\n",
    "    \"smoker\" : [False, False, True, True, True],\n",
    "    \"day\" : [\"Sat\", \"Sat\", \"Sun\", \"Sun\", \"Mon\"],\n",
    "    \"time\" : [\"Dinner\", \"Lunch\", \"Lunch\", \"Dinner\", \"Drinks\"],\n",
    "    \"size\" : [2, 3, 3, 2, 4]\n",
    "}\n",
    "\n",
    "data2 = {\n",
    "    \"total_bill\" : [16.99, 10.34, -21.01, 23.68, 24.59],\n",
    "    \"tips\" : [1.01, None, 3.5, 3.31, 3.61],\n",
    "    \"sex\" : [\"Female\", \"Male\", \"Male\", \"Mäle\", \"Female\"],\n",
    "    \"smoker\" : [False, False, True, True, True],\n",
    "    \"day\" : [\"Sat\", \"Sat\", \"Sun\", \"Sun\", \"Mon\"],\n",
    "    \"time\" : [\"Dinner\", \"Lunch\", \"Lunch\", \"Dinner\", \"Drinks\"],\n",
    "    \"size\" : [\"two\", 3, 3, 200, 4]\n",
    "}\n",
    "\n",
    "df_error1 = pd.DataFrame(data1)\n",
    "df_error2to7 = pd.DataFrame(data2)\n",
    "df_error8_9 = pd.read_csv(\"../../tests/resources/test_csv_errors_8_9.csv\")\n",
    "print(df_error1)\n",
    "print()\n",
    "print(df_error2to7)\n",
    "print()\n",
    "print(df_error8_9)"
   ],
   "id": "148c16e67fd82a0b",
   "outputs": [
    {
     "name": "stdout",
     "output_type": "stream",
     "text": [
      "   tips     sex  smoker  day    time  size\n",
      "0  1.01  Female   False  Sat  Dinner     2\n",
      "1  1.66    Male   False  Sat   Lunch     3\n",
      "2  3.50    Male    True  Sun   Lunch     3\n",
      "3  3.31    Male    True  Sun  Dinner     2\n",
      "4  3.61  Female    True  Mon  Drinks     4\n",
      "\n",
      "   total_bill  tips     sex  smoker  day    time size\n",
      "0       16.99  1.01  Female   False  Sat  Dinner  two\n",
      "1       10.34   NaN    Male   False  Sat   Lunch    3\n",
      "2      -21.01  3.50    Male    True  Sun   Lunch    3\n",
      "3       23.68  3.31    Mäle    True  Sun  Dinner  200\n",
      "4       24.59  3.61  Female    True  Mon  Drinks    4\n",
      "\n",
      "  total_bill\\ttip\\tsex\\tsmoker\\t\\ttime\\tsize\n",
      "0    16.99\\t1.01\\tFemale\\tNo\\tSun\\tDinner\\t2\n",
      "1      10.34\\t1.66\\tMale\\tNo\\tSun\\tDinner\\t3\n",
      "2       21.01\\t3.5\\tMale\\tNo\\tSun\\tDinner\\t3\n",
      "3      23.68\\t3.31\\tMale\\tNo\\tSun\\tDinner\\t2\n",
      "4    24.59\\t3.61\\tFemale\\tNo\\tSun\\tDinner\\t4\n"
     ]
    }
   ],
   "execution_count": 9
  }
 ],
 "metadata": {
  "kernelspec": {
   "display_name": "Python 3 (ipykernel)",
   "language": "python",
   "name": "python3"
  },
  "language_info": {
   "codemirror_mode": {
    "name": "ipython",
    "version": 3
   },
   "file_extension": ".py",
   "mimetype": "text/x-python",
   "name": "python",
   "nbconvert_exporter": "python",
   "pygments_lexer": "ipython3",
   "version": "3.12.4"
  }
 },
 "nbformat": 4,
 "nbformat_minor": 5
}
