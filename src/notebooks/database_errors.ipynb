{
 "cells": [
  {
   "cell_type": "markdown",
   "id": "3579bd6c-89b9-4440-a85e-4bc5122fae95",
   "metadata": {},
   "source": [
    "Notebook to generate data issues"
   ]
  },
  {
   "cell_type": "code",
   "execution_count": null,
   "id": "f6897533-e4f8-4490-b0a8-5e929b1e8ee5",
   "metadata": {},
   "outputs": [],
   "source": [
    "# 1 missing_columns => one or some of the csv files are missing a required column.\n",
    "# 2 missing_values => one or more values in a row are nulls.\n",
    "# 3 unknown_categorical_values => expected value \"dinner\", \"lunch\", new value: \"drinks\"\n",
    "# 4 unknown_numeric_values => wrong value for a feature, e.g:-1 for tips\n",
    "# 5 bad_data_type_values => string value in a numerical column and vice versa.\n",
    "# 6 bad_csv_encoding => having unreadable character in CSV file e.g: à, ù, Ö, Ü.\n",
    "# 7 bad_delimiter => one or some csv files are seperated by other delimiter e.g: TSV using \\t.\n",
    "# 8 missing_header => one or more header are missing."
   ]
  },
  {
   "cell_type": "code",
   "execution_count": 1,
   "id": "148c16e67fd82a0b",
   "metadata": {
    "ExecuteTime": {
     "end_time": "2025-02-26T13:36:03.110322Z",
     "start_time": "2025-02-26T13:36:00.279949Z"
    }
   },
   "outputs": [
    {
     "name": "stdout",
     "output_type": "stream",
     "text": [
      "    tips   sex  smoker day    time  size\n",
      "0  16.99  1.01  Female  No  Dinner     2\n",
      "1  10.34  1.66    Male  No  Dinner     3\n",
      "2  21.01  3.50    Male  No  Dinner     3\n",
      "3  23.68  3.31    Male  No   Lunch     2\n",
      "4  24.59  3.61  Female  No   Lunch     4\n",
      "\n",
      "   total_bill  tips     sex  smoker  day    time size\n",
      "0       16.99  1.01  Female   False  Sat  Dinner  two\n",
      "1       10.34   NaN    Male   False  Sat   Lunch    3\n",
      "2      -21.01  3.50    Male    True  Sun   Lunch    3\n",
      "3       23.68  3.31    Mäle    True  Sun  Dinner  200\n",
      "4       24.59  3.61  Female    True  Mon  Drinks    4\n",
      "\n",
      "  total_bill\\ttip\\tsex\\tsmoker\\t\\ttime\\tsize\n",
      "0    16.99\\t1.01\\tFemæle\\tNo\\tSun\\tDinner\\t2\n",
      "1      10.34\\t1.66\\tMale\\tNo\\tSun\\tDinner\\t3\n",
      "2       21.01\\t3.5\\tMàle\\tNo\\tSun\\tDinner\\t3\n",
      "3      23.68\\t3.31\\tMale\\tNo\\tSun\\tDinner\\t2\n",
      "4    24.59\\t3.61\\tFemale\\tNo\\tSun\\tDinner\\t4\n"
     ]
    }
   ],
   "source": [
    "import pandas as pd\n",
    "\n",
    "data2 = {\n",
    "    \"total_bill\": [16.99, 10.34, -21.01, 23.68, 24.59],\n",
    "    \"tips\": [1.01, None, 3.5, 3.31, 3.61],\n",
    "    \"sex\": [\"Female\", \"Male\", \"Male\", \"Mäle\", \"Female\"],\n",
    "    \"smoker\": [False, False, True, True, True],\n",
    "    \"day\": [\"Sat\", \"Sat\", \"Sun\", \"Sun\", \"Mon\"],\n",
    "    \"time\": [\"Dinner\", \"Lunch\", \"Lunch\", \"Dinner\", \"Drinks\"],\n",
    "    \"size\": [\"two\", 3, 3, 200, 4],\n",
    "}\n",
    "\n",
    "df_missing_column = pd.read_csv(\n",
    "    \"../../tests/resources/test_folder_1/db_errors_test_folder/test_missing_column.csv\"\n",
    ")\n",
    "df_error2 = pd.DataFrame(data2)\n",
    "df_bad_csv = pd.read_csv(\n",
    "    \"../../tests/resources/test_folder_1/db_errors_test_folder/test_bad_csv_errors.csv\"\n",
    ")\n",
    "print(df_missing_column)\n",
    "print()\n",
    "print(df_error2)\n",
    "print()\n",
    "print(df_bad_csv)"
   ]
  },
  {
   "cell_type": "code",
   "execution_count": 9,
   "id": "ad00ba4d5787e427",
   "metadata": {
    "ExecuteTime": {
     "end_time": "2025-03-02T21:27:02.063686Z",
     "start_time": "2025-03-02T21:26:59.404182Z"
    }
   },
   "outputs": [],
   "source": [
    "import pandas as pd"
   ]
  },
  {
   "cell_type": "code",
   "execution_count": 4,
   "id": "d7f99c30ff1ae507",
   "metadata": {
    "ExecuteTime": {
     "end_time": "2025-03-02T20:10:19.721374Z",
     "start_time": "2025-03-02T20:10:19.714899Z"
    }
   },
   "outputs": [],
   "source": [
    "# set up empty error dict\n",
    "empty_errors = {\n",
    "    \"missing_header\": None,\n",
    "    \"bad_delimiter\": None,\n",
    "    \"bad_csv_encoding\": None,\n",
    "    \"missing_columns\": None,\n",
    "    \"missing_values\": None,\n",
    "    \"unknown_categorical_values\": None,\n",
    "    \"unknown_numeric_values\": None,\n",
    "    \"bad_data_type_values\": None,\n",
    "}"
   ]
  },
  {
   "cell_type": "code",
   "execution_count": 7,
   "id": "6bdbbde65f7ff13d",
   "metadata": {
    "ExecuteTime": {
     "end_time": "2025-03-02T21:04:31.742206Z",
     "start_time": "2025-03-02T21:04:31.666403Z"
    }
   },
   "outputs": [
    {
     "name": "stdout",
     "output_type": "stream",
     "text": [
      "{'missing_header': ['day'], 'bad_csv_format': '\\t', 'bad_csv_encoding': None, 'missing_columns': None, 'missing_values': None, 'unknown_categorical_values': None, 'unknown_numeric_values': None, 'bad_data_type_values': None}\n"
     ]
    }
   ],
   "source": [
    "# check if csv file have errors (missing header or bad delimiter)\n",
    "def check_csv_error(filepath):\n",
    "    errors = empty_errors\n",
    "    expected_headers = [\"total_bill\", \"tip\", \"sex\", \"smoker\", \"day\", \"time\", \"size\"]\n",
    "    with open(filepath, \"r\", encoding=\"utf-8\") as file:\n",
    "        header_line = file.readline().strip()\n",
    "        data_line = file.readline().strip()\n",
    "    delimiters = [\",\", \"\\t\", \";\", \"|\", \" \"]\n",
    "    delimiter_counts = {d: header_line.count(d) for d in delimiters}\n",
    "    detected_delimiter = max(delimiter_counts, key=delimiter_counts.get)\n",
    "    detected_headers = [h.strip() for h in header_line.split(detected_delimiter)]\n",
    "    missing_headers = list(set(expected_headers) - set(detected_headers))\n",
    "    # bad delimiter checker\n",
    "    if detected_delimiter != \",\":\n",
    "        errors[\"bad_delimiter\"] = detected_delimiter\n",
    "    # missing column and header checker\n",
    "    if missing_headers:\n",
    "        data_columns = data_line.split(detected_delimiter)\n",
    "        num_columns = max(len(detected_headers), len(data_columns))\n",
    "        if num_columns < 7:\n",
    "            errors[\"missing_columns\"] = 7 - num_columns\n",
    "            # idk if to stop in cases this severe and manually deal with it or just continue to detect errors\n",
    "        else:\n",
    "            errors[\"missing_header\"] = missing_headers\n",
    "    ########################\n",
    "    # TODO: check encoding\n",
    "    ########################\n",
    "    ########################\n",
    "    # start checking for data problems\n",
    "    # may separate check errors code here, since delimiter is now detected\n",
    "    df = pd.read_csv(file, delimiter=detected_delimiter)\n",
    "    # check how many values are missing\n",
    "    if df.isnull().values.any():\n",
    "        amount_missing = df.isnull().sum().sum()\n",
    "        errors[\"missing_values\"] = amount_missing\n",
    "    ########\n",
    "    # unknown_categorical_values seem to need comparison with a standard, TODO\n",
    "    # https://www.kaggle.com/code/manishkc06/handling-unknown-categories-in-dataset\n",
    "    ########\n",
    "    # bad_data_type_values, unknown_numeric_values: check next block\n",
    "    return errors\n",
    "\n",
    "\n",
    "print(\n",
    "    check_csv_error(\n",
    "        \"../../tests/resources/test_folder_1/db_errors_test_folder/test_bad_csv_errors.csv\"\n",
    "    )\n",
    ")"
   ]
  },
  {
   "cell_type": "code",
   "execution_count": 31,
   "id": "a41b8a3493cbbae3",
   "metadata": {
    "ExecuteTime": {
     "end_time": "2025-03-02T23:44:00.297620Z",
     "start_time": "2025-03-02T23:44:00.286136Z"
    }
   },
   "outputs": [],
   "source": [
    "# check for bad_data_type_values, unknown_numeric_values\n",
    "def check_bad_values(filepath):\n",
    "    expected_types = {\n",
    "        \"total_bill\": float,\n",
    "        \"tip\": float,\n",
    "        \"sex\": str,\n",
    "        \"smoker\": str,\n",
    "        \"day\": str,\n",
    "        \"time\": str,\n",
    "        \"size\": int,\n",
    "    }\n",
    "\n",
    "    df = pd.read_csv(filepath)\n",
    "    bad_values = {}\n",
    "    negative_values = {}\n",
    "\n",
    "    for col, expected_type in expected_types.items():\n",
    "        if expected_type == int:\n",
    "            # int\n",
    "            bad_values[col] = df.loc[\n",
    "                ~df[col].astype(str).str.match(r\"^-?\\d+$\", na=False), col\n",
    "            ].tolist()\n",
    "            negative_values[col] = df.loc[df[col] < 0, col].tolist()\n",
    "        elif expected_type == float:\n",
    "            # float\n",
    "            bad_values[col] = df.loc[\n",
    "                ~df[col].astype(str).str.match(r\"^-?\\d+(\\.\\d+)?$\", na=False), col\n",
    "            ].tolist()\n",
    "            negative_values[col] = df.loc[df[col] < 0, col].tolist()\n",
    "        elif expected_type == str:\n",
    "            # str\n",
    "            bad_values[col] = df.loc[\n",
    "                df[col].astype(str).str.match(r\"^-?\\d+(\\.\\d+)?$\", na=False), col\n",
    "            ].tolist()\n",
    "\n",
    "    bad_values = {col: vals for col, vals in bad_values.items() if vals}\n",
    "    negative_values = {col: vals for col, vals in negative_values.items() if vals}\n",
    "\n",
    "    if bad_values:\n",
    "        print(\"Bad values:\")\n",
    "        for col, vals in bad_values.items():\n",
    "            print(f\"  - {col}: {vals}\")\n",
    "    else:\n",
    "        print(\"No type errors\")\n",
    "    if negative_values:\n",
    "        print(\"Negative values:\")\n",
    "        for col, vals in negative_values.items():\n",
    "            print(f\"  - {col}: {vals}\")\n",
    "    else:\n",
    "        print(\"No negative\")"
   ]
  },
  {
   "cell_type": "code",
   "execution_count": 32,
   "id": "2a754beb1c9231e7",
   "metadata": {
    "ExecuteTime": {
     "end_time": "2025-03-02T23:44:04.137549Z",
     "start_time": "2025-03-02T23:44:01.712410Z"
    }
   },
   "outputs": [
    {
     "ename": "TypeError",
     "evalue": "'<' not supported between instances of 'str' and 'int'",
     "output_type": "error",
     "traceback": [
      "\u001b[0;31m---------------------------------------------------------------------------\u001b[0m",
      "\u001b[0;31mTypeError\u001b[0m                                 Traceback (most recent call last)",
      "Cell \u001b[0;32mIn[32], line 1\u001b[0m\n\u001b[0;32m----> 1\u001b[0m \u001b[43mcheck_bad_values\u001b[49m\u001b[43m(\u001b[49m\u001b[38;5;124;43m\"\u001b[39;49m\u001b[38;5;124;43m../../tests/resources/test_folder_1/db_errors_test_folder/test_bad_data_type.csv\u001b[39;49m\u001b[38;5;124;43m\"\u001b[39;49m\u001b[43m)\u001b[49m\n",
      "Cell \u001b[0;32mIn[31], line 25\u001b[0m, in \u001b[0;36mcheck_bad_values\u001b[0;34m(filepath)\u001b[0m\n\u001b[1;32m     22\u001b[0m \u001b[38;5;28;01melif\u001b[39;00m expected_type \u001b[38;5;241m==\u001b[39m \u001b[38;5;28mfloat\u001b[39m:\n\u001b[1;32m     23\u001b[0m     \u001b[38;5;66;03m# float\u001b[39;00m\n\u001b[1;32m     24\u001b[0m     bad_values[col] \u001b[38;5;241m=\u001b[39m df\u001b[38;5;241m.\u001b[39mloc[\u001b[38;5;241m~\u001b[39mdf[col]\u001b[38;5;241m.\u001b[39mastype(\u001b[38;5;28mstr\u001b[39m)\u001b[38;5;241m.\u001b[39mstr\u001b[38;5;241m.\u001b[39mmatch(\u001b[38;5;124mr\u001b[39m\u001b[38;5;124m\"\u001b[39m\u001b[38;5;124m^-?\u001b[39m\u001b[38;5;124m\\\u001b[39m\u001b[38;5;124md+(\u001b[39m\u001b[38;5;124m\\\u001b[39m\u001b[38;5;124m.\u001b[39m\u001b[38;5;124m\\\u001b[39m\u001b[38;5;124md+)?$\u001b[39m\u001b[38;5;124m\"\u001b[39m, na\u001b[38;5;241m=\u001b[39m\u001b[38;5;28;01mFalse\u001b[39;00m), col]\u001b[38;5;241m.\u001b[39mtolist()\n\u001b[0;32m---> 25\u001b[0m     negative_values[col] \u001b[38;5;241m=\u001b[39m df\u001b[38;5;241m.\u001b[39mloc[\u001b[43mdf\u001b[49m\u001b[43m[\u001b[49m\u001b[43mcol\u001b[49m\u001b[43m]\u001b[49m\u001b[43m \u001b[49m\u001b[38;5;241;43m<\u001b[39;49m\u001b[43m \u001b[49m\u001b[38;5;241;43m0\u001b[39;49m, col]\u001b[38;5;241m.\u001b[39mtolist()\n\u001b[1;32m     26\u001b[0m \u001b[38;5;28;01melif\u001b[39;00m expected_type \u001b[38;5;241m==\u001b[39m \u001b[38;5;28mstr\u001b[39m:\n\u001b[1;32m     27\u001b[0m     \u001b[38;5;66;03m# str\u001b[39;00m\n\u001b[1;32m     28\u001b[0m     bad_values[col] \u001b[38;5;241m=\u001b[39m df\u001b[38;5;241m.\u001b[39mloc[df[col]\u001b[38;5;241m.\u001b[39mastype(\u001b[38;5;28mstr\u001b[39m)\u001b[38;5;241m.\u001b[39mstr\u001b[38;5;241m.\u001b[39mmatch(\u001b[38;5;124mr\u001b[39m\u001b[38;5;124m\"\u001b[39m\u001b[38;5;124m^-?\u001b[39m\u001b[38;5;124m\\\u001b[39m\u001b[38;5;124md+(\u001b[39m\u001b[38;5;124m\\\u001b[39m\u001b[38;5;124m.\u001b[39m\u001b[38;5;124m\\\u001b[39m\u001b[38;5;124md+)?$\u001b[39m\u001b[38;5;124m\"\u001b[39m, na\u001b[38;5;241m=\u001b[39m\u001b[38;5;28;01mFalse\u001b[39;00m), col]\u001b[38;5;241m.\u001b[39mtolist()\n",
      "File \u001b[0;32m~/miniconda3/envs/dsp_restaurant_tips_3_9/lib/python3.9/site-packages/pandas/core/ops/common.py:81\u001b[0m, in \u001b[0;36m_unpack_zerodim_and_defer.<locals>.new_method\u001b[0;34m(self, other)\u001b[0m\n\u001b[1;32m     77\u001b[0m             \u001b[38;5;28;01mreturn\u001b[39;00m \u001b[38;5;28mNotImplemented\u001b[39m\n\u001b[1;32m     79\u001b[0m other \u001b[38;5;241m=\u001b[39m item_from_zerodim(other)\n\u001b[0;32m---> 81\u001b[0m \u001b[38;5;28;01mreturn\u001b[39;00m \u001b[43mmethod\u001b[49m\u001b[43m(\u001b[49m\u001b[38;5;28;43mself\u001b[39;49m\u001b[43m,\u001b[49m\u001b[43m \u001b[49m\u001b[43mother\u001b[49m\u001b[43m)\u001b[49m\n",
      "File \u001b[0;32m~/miniconda3/envs/dsp_restaurant_tips_3_9/lib/python3.9/site-packages/pandas/core/arraylike.py:48\u001b[0m, in \u001b[0;36mOpsMixin.__lt__\u001b[0;34m(self, other)\u001b[0m\n\u001b[1;32m     46\u001b[0m \u001b[38;5;129m@unpack_zerodim_and_defer\u001b[39m(\u001b[38;5;124m\"\u001b[39m\u001b[38;5;124m__lt__\u001b[39m\u001b[38;5;124m\"\u001b[39m)\n\u001b[1;32m     47\u001b[0m \u001b[38;5;28;01mdef\u001b[39;00m \u001b[38;5;21m__lt__\u001b[39m(\u001b[38;5;28mself\u001b[39m, other):\n\u001b[0;32m---> 48\u001b[0m     \u001b[38;5;28;01mreturn\u001b[39;00m \u001b[38;5;28;43mself\u001b[39;49m\u001b[38;5;241;43m.\u001b[39;49m\u001b[43m_cmp_method\u001b[49m\u001b[43m(\u001b[49m\u001b[43mother\u001b[49m\u001b[43m,\u001b[49m\u001b[43m \u001b[49m\u001b[43moperator\u001b[49m\u001b[38;5;241;43m.\u001b[39;49m\u001b[43mlt\u001b[49m\u001b[43m)\u001b[49m\n",
      "File \u001b[0;32m~/miniconda3/envs/dsp_restaurant_tips_3_9/lib/python3.9/site-packages/pandas/core/series.py:6096\u001b[0m, in \u001b[0;36mSeries._cmp_method\u001b[0;34m(self, other, op)\u001b[0m\n\u001b[1;32m   6093\u001b[0m rvalues \u001b[38;5;241m=\u001b[39m extract_array(other, extract_numpy\u001b[38;5;241m=\u001b[39m\u001b[38;5;28;01mTrue\u001b[39;00m, extract_range\u001b[38;5;241m=\u001b[39m\u001b[38;5;28;01mTrue\u001b[39;00m)\n\u001b[1;32m   6095\u001b[0m \u001b[38;5;28;01mwith\u001b[39;00m np\u001b[38;5;241m.\u001b[39merrstate(\u001b[38;5;28mall\u001b[39m\u001b[38;5;241m=\u001b[39m\u001b[38;5;124m\"\u001b[39m\u001b[38;5;124mignore\u001b[39m\u001b[38;5;124m\"\u001b[39m):\n\u001b[0;32m-> 6096\u001b[0m     res_values \u001b[38;5;241m=\u001b[39m \u001b[43mops\u001b[49m\u001b[38;5;241;43m.\u001b[39;49m\u001b[43mcomparison_op\u001b[49m\u001b[43m(\u001b[49m\u001b[43mlvalues\u001b[49m\u001b[43m,\u001b[49m\u001b[43m \u001b[49m\u001b[43mrvalues\u001b[49m\u001b[43m,\u001b[49m\u001b[43m \u001b[49m\u001b[43mop\u001b[49m\u001b[43m)\u001b[49m\n\u001b[1;32m   6098\u001b[0m \u001b[38;5;28;01mreturn\u001b[39;00m \u001b[38;5;28mself\u001b[39m\u001b[38;5;241m.\u001b[39m_construct_result(res_values, name\u001b[38;5;241m=\u001b[39mres_name)\n",
      "File \u001b[0;32m~/miniconda3/envs/dsp_restaurant_tips_3_9/lib/python3.9/site-packages/pandas/core/ops/array_ops.py:293\u001b[0m, in \u001b[0;36mcomparison_op\u001b[0;34m(left, right, op)\u001b[0m\n\u001b[1;32m    290\u001b[0m     \u001b[38;5;28;01mreturn\u001b[39;00m invalid_comparison(lvalues, rvalues, op)\n\u001b[1;32m    292\u001b[0m \u001b[38;5;28;01melif\u001b[39;00m is_object_dtype(lvalues\u001b[38;5;241m.\u001b[39mdtype) \u001b[38;5;129;01mor\u001b[39;00m \u001b[38;5;28misinstance\u001b[39m(rvalues, \u001b[38;5;28mstr\u001b[39m):\n\u001b[0;32m--> 293\u001b[0m     res_values \u001b[38;5;241m=\u001b[39m \u001b[43mcomp_method_OBJECT_ARRAY\u001b[49m\u001b[43m(\u001b[49m\u001b[43mop\u001b[49m\u001b[43m,\u001b[49m\u001b[43m \u001b[49m\u001b[43mlvalues\u001b[49m\u001b[43m,\u001b[49m\u001b[43m \u001b[49m\u001b[43mrvalues\u001b[49m\u001b[43m)\u001b[49m\n\u001b[1;32m    295\u001b[0m \u001b[38;5;28;01melse\u001b[39;00m:\n\u001b[1;32m    296\u001b[0m     res_values \u001b[38;5;241m=\u001b[39m _na_arithmetic_op(lvalues, rvalues, op, is_cmp\u001b[38;5;241m=\u001b[39m\u001b[38;5;28;01mTrue\u001b[39;00m)\n",
      "File \u001b[0;32m~/miniconda3/envs/dsp_restaurant_tips_3_9/lib/python3.9/site-packages/pandas/core/ops/array_ops.py:82\u001b[0m, in \u001b[0;36mcomp_method_OBJECT_ARRAY\u001b[0;34m(op, x, y)\u001b[0m\n\u001b[1;32m     80\u001b[0m     result \u001b[38;5;241m=\u001b[39m libops\u001b[38;5;241m.\u001b[39mvec_compare(x\u001b[38;5;241m.\u001b[39mravel(), y\u001b[38;5;241m.\u001b[39mravel(), op)\n\u001b[1;32m     81\u001b[0m \u001b[38;5;28;01melse\u001b[39;00m:\n\u001b[0;32m---> 82\u001b[0m     result \u001b[38;5;241m=\u001b[39m \u001b[43mlibops\u001b[49m\u001b[38;5;241;43m.\u001b[39;49m\u001b[43mscalar_compare\u001b[49m\u001b[43m(\u001b[49m\u001b[43mx\u001b[49m\u001b[38;5;241;43m.\u001b[39;49m\u001b[43mravel\u001b[49m\u001b[43m(\u001b[49m\u001b[43m)\u001b[49m\u001b[43m,\u001b[49m\u001b[43m \u001b[49m\u001b[43my\u001b[49m\u001b[43m,\u001b[49m\u001b[43m \u001b[49m\u001b[43mop\u001b[49m\u001b[43m)\u001b[49m\n\u001b[1;32m     83\u001b[0m \u001b[38;5;28;01mreturn\u001b[39;00m result\u001b[38;5;241m.\u001b[39mreshape(x\u001b[38;5;241m.\u001b[39mshape)\n",
      "File \u001b[0;32m~/miniconda3/envs/dsp_restaurant_tips_3_9/lib/python3.9/site-packages/pandas/_libs/ops.pyx:107\u001b[0m, in \u001b[0;36mpandas._libs.ops.scalar_compare\u001b[0;34m()\u001b[0m\n",
      "\u001b[0;31mTypeError\u001b[0m: '<' not supported between instances of 'str' and 'int'"
     ]
    }
   ],
   "source": [
    "check_bad_values(\n",
    "    \"../../tests/resources/test_folder_1/db_errors_test_folder/test_bad_data_type.csv\"\n",
    ")"
   ]
  },
  {
   "cell_type": "code",
   "execution_count": 19,
   "id": "144c4023044217c1",
   "metadata": {
    "ExecuteTime": {
     "end_time": "2025-03-02T23:23:46.062838Z",
     "start_time": "2025-03-02T23:23:46.022322Z"
    }
   },
   "outputs": [
    {
     "name": "stdout",
     "output_type": "stream",
     "text": [
      "   total_bill    tip     sex smoker  day    time size\n",
      "0       16.99   1.01  Female     No    7  Dinner  two\n",
      "1       10.34   1.66    Male      0  Sun  Dinner    3\n",
      "2       21.01  three    Male     No  Sun  Dinner    3\n",
      "3       23.68   3.31       1      1  Sun  Dinner    2\n",
      "4       24.59   3.61  Female      1  Sun  Dinner    4\n"
     ]
    },
    {
     "data": {
      "text/plain": [
       "['two']"
      ]
     },
     "execution_count": 19,
     "metadata": {},
     "output_type": "execute_result"
    }
   ],
   "source": [
    "# code to test before putting into checkers\n",
    "# currently: check bad value type\n",
    "df = pd.read_csv(\n",
    "    \"../../tests/resources/test_folder_1/db_errors_test_folder/test_bad_data_type.csv\"\n",
    ")\n",
    "print(df)\n",
    "df.head()\n",
    "df.loc[~df[\"size\"].str.isdigit(), \"size\"].tolist()"
   ]
  }
 ],
 "metadata": {
  "kernelspec": {
   "display_name": "Python 3 (ipykernel)",
   "language": "python",
   "name": "python3"
  },
  "language_info": {
   "codemirror_mode": {
    "name": "ipython",
    "version": 3
   },
   "file_extension": ".py",
   "mimetype": "text/x-python",
   "name": "python",
   "nbconvert_exporter": "python",
   "pygments_lexer": "ipython3",
   "version": "3.12.4"
  }
 },
 "nbformat": 4,
 "nbformat_minor": 5
}
