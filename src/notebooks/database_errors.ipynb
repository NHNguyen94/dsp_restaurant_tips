{
 "cells": [
  {
   "cell_type": "markdown",
   "id": "3579bd6c-89b9-4440-a85e-4bc5122fae95",
   "metadata": {},
   "source": [
    "Notebook to generate data issues"
   ]
  },
  {
   "cell_type": "code",
   "execution_count": null,
   "id": "f6897533-e4f8-4490-b0a8-5e929b1e8ee5",
   "metadata": {},
   "outputs": [],
   "source": [
    "# 1 missing_columns => one or some of the csv files are missing a required column.\n",
    "# 2 missing_values => one or more values in a row are nulls.\n",
    "# 3 unknown_categorical_values => expected value \"dinner\", \"lunch\", new value: \"drinks\".\n",
    "# 4 unknown_numeric_values => wrong value for a feature, e.g:-1 for tips.\n",
    "# 5 bad_data_type_values => string value in a numerical column and vice versa.\n",
    "# 6 bad_csv_encoding => having unreadable character in CSV file e.g: à, ù, Ö, Ü.\n",
    "# 7 bad_csv_format => one or some csv files are seperated by other delimiter e.g: TSV using \\t"
   ]
  },
  {
   "metadata": {
    "ExecuteTime": {
     "end_time": "2025-02-26T13:36:03.110322Z",
     "start_time": "2025-02-26T13:36:00.279949Z"
    }
   },
   "cell_type": "code",
   "source": [
    "import pandas as pd\n",
    "\n",
    "data2 = {\n",
    "    \"total_bill\" : [16.99, 10.34, -21.01, 23.68, 24.59],\n",
    "    \"tips\" : [1.01, None, 3.5, 3.31, 3.61],\n",
    "    \"sex\" : [\"Female\", \"Male\", \"Male\", \"Mäle\", \"Female\"],\n",
    "    \"smoker\" : [False, False, True, True, True],\n",
    "    \"day\" : [\"Sat\", \"Sat\", \"Sun\", \"Sun\", \"Mon\"],\n",
    "    \"time\" : [\"Dinner\", \"Lunch\", \"Lunch\", \"Dinner\", \"Drinks\"],\n",
    "    \"size\" : [\"two\", 3, 3, 200, 4]\n",
    "}\n",
    "\n",
    "df_missing_column = pd.read_csv(\"../../tests/resources/test_folder_1/db_errors_test_folder/test_missing_column.csv\")\n",
    "df_error2 = pd.DataFrame(data2)\n",
    "df_bad_csv = pd.read_csv(\"../../tests/resources/test_folder_1/db_errors_test_folder/test_bad_csv_errors.csv\")\n",
    "print(df_missing_column)\n",
    "print()\n",
    "print(df_error2)\n",
    "print()\n",
    "print(df_bad_csv)"
   ],
   "id": "148c16e67fd82a0b",
   "outputs": [
    {
     "name": "stdout",
     "output_type": "stream",
     "text": [
      "    tips   sex  smoker day    time  size\n",
      "0  16.99  1.01  Female  No  Dinner     2\n",
      "1  10.34  1.66    Male  No  Dinner     3\n",
      "2  21.01  3.50    Male  No  Dinner     3\n",
      "3  23.68  3.31    Male  No   Lunch     2\n",
      "4  24.59  3.61  Female  No   Lunch     4\n",
      "\n",
      "   total_bill  tips     sex  smoker  day    time size\n",
      "0       16.99  1.01  Female   False  Sat  Dinner  two\n",
      "1       10.34   NaN    Male   False  Sat   Lunch    3\n",
      "2      -21.01  3.50    Male    True  Sun   Lunch    3\n",
      "3       23.68  3.31    Mäle    True  Sun  Dinner  200\n",
      "4       24.59  3.61  Female    True  Mon  Drinks    4\n",
      "\n",
      "  total_bill\\ttip\\tsex\\tsmoker\\t\\ttime\\tsize\n",
      "0    16.99\\t1.01\\tFemæle\\tNo\\tSun\\tDinner\\t2\n",
      "1      10.34\\t1.66\\tMale\\tNo\\tSun\\tDinner\\t3\n",
      "2       21.01\\t3.5\\tMàle\\tNo\\tSun\\tDinner\\t3\n",
      "3      23.68\\t3.31\\tMale\\tNo\\tSun\\tDinner\\t2\n",
      "4    24.59\\t3.61\\tFemale\\tNo\\tSun\\tDinner\\t4\n"
     ]
    }
   ],
   "execution_count": 1
  },
  {
   "metadata": {},
   "cell_type": "code",
   "outputs": [],
   "execution_count": null,
   "source": "",
   "id": "6bdbbde65f7ff13d"
  }
 ],
 "metadata": {
  "kernelspec": {
   "display_name": "Python 3 (ipykernel)",
   "language": "python",
   "name": "python3"
  },
  "language_info": {
   "codemirror_mode": {
    "name": "ipython",
    "version": 3
   },
   "file_extension": ".py",
   "mimetype": "text/x-python",
   "name": "python",
   "nbconvert_exporter": "python",
   "pygments_lexer": "ipython3",
   "version": "3.12.4"
  }
 },
 "nbformat": 4,
 "nbformat_minor": 5
}
