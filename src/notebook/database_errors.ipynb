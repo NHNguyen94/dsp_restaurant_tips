{
 "cells": [
  {
   "cell_type": "markdown",
   "id": "3579bd6c-89b9-4440-a85e-4bc5122fae95",
   "metadata": {},
   "source": [
    "Notebook to generate data issues"
   ]
  },
  {
   "cell_type": "code",
   "execution_count": null,
   "id": "f6897533-e4f8-4490-b0a8-5e929b1e8ee5",
   "metadata": {},
   "outputs": [],
   "source": [
    "# 1 feature_missing => one or some of the csv files are missing a required column\n",
    "# 2 values_missing => one or more values in a row are nulls\n",
    "# 3 unknown_categorical => expected value \"dinner\", \"lunch\", new value: \"drinks\"\n",
    "# 4 out_of_range_numerical => wrong value for a feature, e.g:-1 for tips\n",
    "# 5 values_types_invalid => string value in a numerical column and vice versa\n",
    "# 6 values_outlier => 1000 people for a table\n",
    "# 7 values_bad_encoding => having unreadable character in CSV file e.g: à, ù, Ö, Ü\n",
    "# 8 csv_format => one or some csv files are seperated by other delimiter e.g: TSV using \\t\n",
    "# 9 header_missing => in a csv file one or more of the label is missing e.g: \"tips\""
   ]
  }
 ],
 "metadata": {
  "kernelspec": {
   "display_name": "Python [conda env:base] *",
   "language": "python",
   "name": "conda-base-py"
  },
  "language_info": {
   "codemirror_mode": {
    "name": "ipython",
    "version": 3
   },
   "file_extension": ".py",
   "mimetype": "text/x-python",
   "name": "python",
   "nbconvert_exporter": "python",
   "pygments_lexer": "ipython3",
   "version": "3.12.4"
  }
 },
 "nbformat": 4,
 "nbformat_minor": 5
}
